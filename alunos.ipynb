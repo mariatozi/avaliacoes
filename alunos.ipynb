# Contagem de aprovados e reprovados
aprovados = 0
reprovados = 0

# Processo para validar os 100 alunos da UVV
for i in range(100):
    print(f"Informações do Aluno {i + 1}")
    
    # Leitura das notas das atividades e prova regular preenchida pelo usuário
    AOP1 = float(input("Nota na AOP1 [0-1]: "))
    AOP2 = float(input("Nota na AOP2 [0-2]: "))
    AOP3 = float(input("Nota na AOP3 [0-1]: "))
    prova_regular = float(input("Nota na PROVA REGULAR [0-6]: "))

    # Calcular a Soma do Módulo (SM)
    soma_modulo = AOP1 + AOP2 + AOP3 + prova_regular

    # Verificação da prova de recuperação ou não
    if soma_modulo < 7.0:
        prova_recuperacao = float(input("Nota na PROVA DE RECUPERAÇÃO [0-10]: "))
        soma_modulo = max(soma_modulo, prova_recuperacao)

    # Calcular a Média Geral
    media_geral = soma_modulo / 4

    # Definir o status do aluno
    if soma_modulo >= 7.0 or media_geral >= 5.0:
        status = "Aprovado"
        aprovados += 1
    else:
        status = "Reprovado"
        reprovados += 1

    print(f"Status do Aluno: {status}")
    print("Soma do Módulo (SM):", soma_modulo)
    print()

# Calcular a porcentagem de aprovados e reprovados
total_alunos = 100
percent_aprovados = (aprovados / total_alunos) * 100
percent_reprovados = (reprovados / total_alunos) * 100

print(f"Porcentagem de Alunos Aprovados: {percent_aprovados}%")
print(f"Porcentagem de Alunos Reprovados: {percent_reprovados}%")
